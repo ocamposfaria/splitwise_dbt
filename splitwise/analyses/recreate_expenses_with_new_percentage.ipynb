{
 "cells": [
  {
   "cell_type": "code",
   "execution_count": null,
   "id": "d9b84602",
   "metadata": {},
   "outputs": [],
   "source": [
    "from splitwise import Splitwise\n",
    "from splitwise.expense import Expense, ExpenseUser\n",
    "import pandas as pd\n",
    "from pprint import pprint"
   ]
  },
  {
   "cell_type": "code",
   "execution_count": null,
   "id": "a44caf8d",
   "metadata": {},
   "outputs": [],
   "source": [
    "s = Splitwise(consumer_key=\"v3FB9KBu2JItIS8F0RZQMuH01OZUeSJxb6ctwo5W\",\n",
    "              consumer_secret=\"pWxGIvBfvayxr4BjHDn6CgwHYPC1iDPxEiJcjAkO\",\n",
    "              api_key=\"cgKMdBJAeqOGOdlqfV4MB42YYW0VnbHkOSyLD76u\")\n",
    "\n",
    "u = s.getCurrentUser()"
   ]
  },
  {
   "cell_type": "code",
   "execution_count": null,
   "id": "5c776e2d",
   "metadata": {},
   "outputs": [],
   "source": [
    "def recreate_expenses_with_new_percentage(list_of_expenses, percentage_juau, percentage_lana, ano_mes, delete):\n",
    "    \n",
    "    if percentage_juau + percentage_lana != 1:\n",
    "        raise Exception('A soma dos percentuais tem de ser igual a 1.')\n",
    "\n",
    "    for i in range(len(list_of_expenses)):\n",
    "        try:\n",
    "            expense_old = s.getExpense(list_of_expenses[i])    \n",
    "            repayment_value = expense_old.repayments[0].getAmount()\n",
    "            repayment_from = expense_old.repayments[0].getFromUser()\n",
    "\n",
    "            if repayment_from == 20401164: # juau pagou, então o repayment é from lana to juau\n",
    "                juau = ExpenseUser()\n",
    "                juau.setId(27512092)\n",
    "                juau.setPaidShare(expense_old.cost)\n",
    "                juau.setOwedShare(str(round(float(expense_old.cost) * percentage_juau, 2)))\n",
    "\n",
    "                lana = ExpenseUser()\n",
    "                lana.setId(20401164)\n",
    "                lana.setPaidShare('0.00')\n",
    "                lana.setOwedShare(str(round(float(expense_old.cost) * percentage_lana, 2)))\n",
    "\n",
    "            if repayment_from == 27512092: # lana pagou, então o repayment é from juau to lana\n",
    "                lana = ExpenseUser()\n",
    "                lana.setId(20401164) \n",
    "                lana.setPaidShare(expense_old.cost)\n",
    "                lana.setOwedShare(str(round(float(expense_old.cost) * percentage_lana, 2)))\n",
    "\n",
    "                juau = ExpenseUser()\n",
    "                juau.setId(27512092)\n",
    "                juau.setPaidShare('0.00')\n",
    "                juau.setOwedShare(str(round(float(expense_old.cost) * percentage_juau, 2)))\n",
    "\n",
    "            expense_new = Expense()\n",
    "            expense_new.setCost(expense_old.cost)\n",
    "            expense_new.addUser(juau)\n",
    "            expense_new.addUser(lana)\n",
    "            expense_new.setGroupId(33823062) # Nossa Residência\n",
    "            expense_new.setDescription(expense_old.description + '___new')\n",
    "            # expense_new.setDate(expense_old.date)\n",
    "            expense_new.setDetails(ano_mes)\n",
    "            \n",
    "            # pprint(vars(expense_new))\n",
    "            # pprint(vars(expense_new.users[0]))\n",
    "            # pprint(vars(expense_new.users[1]))\n",
    "            \n",
    "            expense_id, error = s.createExpense(expense_new)\n",
    "            if error:\n",
    "                pprint(vars(error))\n",
    "                raise Exception('Splitwise error')\n",
    "            \n",
    "            if delete:\n",
    "                s.deleteExpense(list_of_expenses[i])\n",
    "        except Exception as e:\n",
    "            print(f' falha no ID: {list_of_expenses[i]}')\n",
    "            raise Exception(e)"
   ]
  },
  {
   "cell_type": "code",
   "execution_count": null,
   "id": "dc621eea",
   "metadata": {},
   "outputs": [],
   "source": [
    "recreate_expenses_with_new_percentage(\n",
    "    list_of_expenses = [2415871796, 2374611812], \n",
    "    percentage_juau = 0.1, \n",
    "    percentage_lana = 0.9, \n",
    "    ano_mes = '2023-11', \n",
    "    delete = False)"
   ]
  }
 ],
 "metadata": {
  "kernelspec": {
   "display_name": "Python 3 (ipykernel)",
   "language": "python",
   "name": "python3"
  },
  "language_info": {
   "codemirror_mode": {
    "name": "ipython",
    "version": 3
   },
   "file_extension": ".py",
   "mimetype": "text/x-python",
   "name": "python",
   "nbconvert_exporter": "python",
   "pygments_lexer": "ipython3",
   "version": "3.10.0"
  }
 },
 "nbformat": 4,
 "nbformat_minor": 5
}
