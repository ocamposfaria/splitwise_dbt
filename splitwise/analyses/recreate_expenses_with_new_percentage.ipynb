{
 "cells": [
  {
   "cell_type": "code",
   "execution_count": 1,
   "id": "d9b84602",
   "metadata": {},
   "outputs": [],
   "source": [
    "from splitwise import Splitwise\n",
    "from splitwise.expense import Expense, ExpenseUser\n",
    "import pandas as pd\n",
    "from pprint import pprint\n",
    "import yaml"
   ]
  },
  {
   "cell_type": "code",
   "execution_count": 2,
   "id": "ad4f011c",
   "metadata": {},
   "outputs": [],
   "source": [
    "with open('keys.yaml', 'r') as file:\n",
    "    keys = yaml.safe_load(file)"
   ]
  },
  {
   "cell_type": "code",
   "execution_count": 3,
   "id": "a44caf8d",
   "metadata": {},
   "outputs": [],
   "source": [
    "s = Splitwise(consumer_key=keys['consumer_key'],\n",
    "              consumer_secret=keys['consumer_secret'],\n",
    "              api_key=keys['api_key'])\n",
    "\n",
    "u = s.getCurrentUser()"
   ]
  },
  {
   "cell_type": "code",
   "execution_count": 4,
   "id": "5c776e2d",
   "metadata": {},
   "outputs": [],
   "source": [
    "def recreate_expenses_with_new_percentage(list_of_expenses, percentage_juau, percentage_lana, ano_mes, delete):\n",
    "    \n",
    "    if percentage_juau + percentage_lana != 1:\n",
    "        raise Exception('A soma dos percentuais tem de ser igual a 1.')\n",
    "\n",
    "    for i in range(len(list_of_expenses)):\n",
    "        try:\n",
    "            expense_old = s.getExpense(list_of_expenses[i])    \n",
    "            repayment_value = expense_old.repayments[0].getAmount()\n",
    "            repayment_from = expense_old.repayments[0].getFromUser()\n",
    "\n",
    "            if repayment_from == 20401164: # juau pagou, então o repayment é from lana to juau\n",
    "                juau = ExpenseUser()\n",
    "                juau.setId(27512092)\n",
    "                juau.setPaidShare(expense_old.cost)\n",
    "                juau.setOwedShare(str(round(float(expense_old.cost) * percentage_juau, 2)))\n",
    "\n",
    "                lana = ExpenseUser()\n",
    "                lana.setId(20401164)\n",
    "                lana.setPaidShare('0.00')\n",
    "                lana.setOwedShare(str(round(float(expense_old.cost) * percentage_lana, 2)))\n",
    "\n",
    "            if repayment_from == 27512092: # lana pagou, então o repayment é from juau to lana\n",
    "                lana = ExpenseUser()\n",
    "                lana.setId(20401164) \n",
    "                lana.setPaidShare(expense_old.cost)\n",
    "                lana.setOwedShare(str(round(float(expense_old.cost) * percentage_lana, 2)))\n",
    "\n",
    "                juau = ExpenseUser()\n",
    "                juau.setId(27512092)\n",
    "                juau.setPaidShare('0.00')\n",
    "                juau.setOwedShare(str(round(float(expense_old.cost) * percentage_juau, 2)))\n",
    "\n",
    "            expense_new = Expense()\n",
    "            expense_new.setCost(expense_old.cost)\n",
    "            expense_new.addUser(juau)\n",
    "            expense_new.addUser(lana)\n",
    "            expense_new.setGroupId(33823062) # Nossa Residência\n",
    "            expense_new.setDescription(expense_old.description)\n",
    "            # expense_new.setDate(expense_old.date)\n",
    "            expense_new.setDetails(ano_mes + '\\n recreated with script to update past percentages')\n",
    "            \n",
    "            # pprint(vars(expense_new))\n",
    "            # pprint(vars(expense_new.users[0]))\n",
    "            # pprint(vars(expense_new.users[1]))\n",
    "            \n",
    "            expense_id, error = s.createExpense(expense_new)\n",
    "            if error:\n",
    "                pprint(vars(error))\n",
    "                raise Exception('Splitwise error')\n",
    "            \n",
    "            if delete:\n",
    "                s.deleteExpense(list_of_expenses[i])\n",
    "        except Exception as e:\n",
    "            print(f' falha no ID: {list_of_expenses[i]}')\n",
    "            raise Exception(e)"
   ]
  },
  {
   "cell_type": "code",
   "execution_count": 6,
   "id": "dc621eea",
   "metadata": {},
   "outputs": [],
   "source": [
    "recreate_expenses_with_new_percentage(\n",
    "    list_of_expenses = [2193180534, 2316633994, 2374542938, 2388775313, 2388938649, 2388783775, 2390250935, 2420230197, 2420225057, 2420279846, 2420268659, 2420234090, 2420230912, 2420274320, 2420223901, 2420278625, 2420244906, 2423706548, 2423707314, 2423690668, 2423696754, 2423706753, 2423695738, 2423693611, 2423700341, 2423700606, 2423691268, 2423695378, 2423700119, 2423703200, 2423704867, 2423703716, 2423691723, 2423703454, 2423691980, 2423692282, 2423693994, 2423696060, 2439475988, 2439473888, 2439470769, 2439471618, 2439466555, 2439470316, 2439468213, 2439474441, 2441671456, 2441664339, 2441663375, 2441663783, 2441671055, 2441671982, 2465284281, 2465289869, 2465383864, 2465377245, 2465272943, 2465283053, 2465287404, 2465302210, 2465288240, 2465289030, 2465303848, 2465303344, 2465311463], \n",
    "    percentage_juau = 0.5463, \n",
    "    percentage_lana = 0.4537, \n",
    "    ano_mes = '2023-06', \n",
    "    delete = True)"
   ]
  }
 ],
 "metadata": {
  "kernelspec": {
   "display_name": "Python 3 (ipykernel)",
   "language": "python",
   "name": "python3"
  },
  "language_info": {
   "codemirror_mode": {
    "name": "ipython",
    "version": 3
   },
   "file_extension": ".py",
   "mimetype": "text/x-python",
   "name": "python",
   "nbconvert_exporter": "python",
   "pygments_lexer": "ipython3",
   "version": "3.9.0"
  }
 },
 "nbformat": 4,
 "nbformat_minor": 5
}
