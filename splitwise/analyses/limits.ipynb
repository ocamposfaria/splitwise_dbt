{
 "cells": [
  {
   "cell_type": "markdown",
   "id": "e32055ab",
   "metadata": {},
   "source": [
    "## Imports"
   ]
  },
  {
   "cell_type": "code",
   "execution_count": 1,
   "id": "76b39c24",
   "metadata": {},
   "outputs": [],
   "source": [
    "import pandas as pd\n",
    "from splitwise import Splitwise\n",
    "# import sqlalchemy as sqla\n",
    "import mysql.connector\n",
    "from mysql.connector import Error"
   ]
  },
  {
   "cell_type": "markdown",
   "id": "894d0c88",
   "metadata": {},
   "source": [
    "## User inputs"
   ]
  },
  {
   "cell_type": "code",
   "execution_count": 2,
   "id": "e4d0b15e",
   "metadata": {},
   "outputs": [],
   "source": [
    "# ---- 2023-03 ----\n",
    "# salario_lana = 2721\n",
    "# VR_lana = 803 # 774\n",
    "# salario_juau = 2987.36\n",
    "# VR_juau = 500\n",
    "# PA_juau = 0\n",
    "\n",
    "# ---- 2023-04 ----\n",
    "# salario_lana = 2721\n",
    "# VR_lana = 565\n",
    "# salario_juau = 2987.36\n",
    "# VR_juau = 500\n",
    "# PA_juau = 0\n",
    "\n",
    "# ---- 2023-05 ----\n",
    "# salario_lana = 3128.83\n",
    "# VR_lana = 714\n",
    "# salario_juau = 2987.36\n",
    "# VR_juau = 500\n",
    "# PA_juau = 0\n",
    "\n",
    "# ---- 2023-06 ----\n",
    "# salario_lana = 2721\n",
    "# VR_lana = 565\n",
    "# salario_juau = 2987.36\n",
    "# VR_juau = 500\n",
    "# PA_juau = 0\n",
    "\n",
    "# ---- 2023-07 ----\n",
    "# definidos no dbt"
   ]
  },
  {
   "cell_type": "markdown",
   "id": "8f522afa",
   "metadata": {},
   "source": [
    "## Percentages"
   ]
  },
  {
   "cell_type": "code",
   "execution_count": 3,
   "id": "dcafaa88",
   "metadata": {},
   "outputs": [],
   "source": [
    "# renda_total_sem_VR = salario_lana + salario_juau + PA_juau"
   ]
  },
  {
   "cell_type": "code",
   "execution_count": 4,
   "id": "83e506ee",
   "metadata": {},
   "outputs": [],
   "source": [
    "# percentual_juau = (salario_juau + PA_juau)/renda_total_sem_VR\n",
    "# percentual_lana = (salario_lana)/renda_total_sem_VR\n",
    "\n",
    "# mudar padrão no app do splitwise (não funciona no navegador)"
   ]
  },
  {
   "cell_type": "code",
   "execution_count": 5,
   "id": "ddc289eb",
   "metadata": {},
   "outputs": [],
   "source": [
    "percentual_juau =  0.5377202119059684\n",
    "percentual_lana = 0.4622797880940316\n",
    "\n",
    "VR_juau = 0\n",
    "VR_lana = 0"
   ]
  },
  {
   "cell_type": "code",
   "execution_count": 6,
   "id": "4b55562a",
   "metadata": {},
   "outputs": [
    {
     "name": "stdout",
     "output_type": "stream",
     "text": [
      "53.77202119059684\n"
     ]
    }
   ],
   "source": [
    "print(percentual_juau*100)"
   ]
  },
  {
   "cell_type": "code",
   "execution_count": 7,
   "id": "1ca63467",
   "metadata": {
    "scrolled": true
   },
   "outputs": [
    {
     "name": "stdout",
     "output_type": "stream",
     "text": [
      "46.22797880940316\n"
     ]
    }
   ],
   "source": [
    "print(percentual_lana*100)"
   ]
  },
  {
   "cell_type": "markdown",
   "id": "7ded94fa",
   "metadata": {},
   "source": [
    "## Categories"
   ]
  },
  {
   "cell_type": "code",
   "execution_count": 8,
   "id": "44135025",
   "metadata": {},
   "outputs": [],
   "source": [
    "# df = {\n",
    "#     'category': ['contas',          'mercado', 'feira', 'padaria', 'alimentação', 'assinaturas', 'outros', 'transporte', 'apenas joão', 'apenas lana'],\n",
    "#     'cost':     [    2315,  VR_juau + VR_lana,     400,       100,           600,           150,      100,          250,               0,             0]\n",
    "# }"
   ]
  },
  {
   "cell_type": "code",
   "execution_count": 9,
   "id": "fe2b25a1",
   "metadata": {},
   "outputs": [],
   "source": [
    "df = {\n",
    "    'category': ['contas',          'mercado', 'conveniência', 'alimentação', 'assinaturas', 'outros', 'transporte', 'apenas joão', 'apenas lana'],\n",
    "    'cost':     [    2300,               1400,            240,           500,           110,       250,         350,                 120,             0]\n",
    "}"
   ]
  },
  {
   "cell_type": "code",
   "execution_count": 10,
   "id": "12187e57",
   "metadata": {},
   "outputs": [],
   "source": [
    "df = pd.DataFrame(df)"
   ]
  },
  {
   "cell_type": "code",
   "execution_count": 11,
   "id": "f533bcbd",
   "metadata": {},
   "outputs": [
    {
     "data": {
      "text/html": [
       "<div>\n",
       "<style scoped>\n",
       "    .dataframe tbody tr th:only-of-type {\n",
       "        vertical-align: middle;\n",
       "    }\n",
       "\n",
       "    .dataframe tbody tr th {\n",
       "        vertical-align: top;\n",
       "    }\n",
       "\n",
       "    .dataframe thead th {\n",
       "        text-align: right;\n",
       "    }\n",
       "</style>\n",
       "<table border=\"1\" class=\"dataframe\">\n",
       "  <thead>\n",
       "    <tr style=\"text-align: right;\">\n",
       "      <th></th>\n",
       "      <th>category</th>\n",
       "      <th>cost</th>\n",
       "    </tr>\n",
       "  </thead>\n",
       "  <tbody>\n",
       "    <tr>\n",
       "      <th>0</th>\n",
       "      <td>contas</td>\n",
       "      <td>2300</td>\n",
       "    </tr>\n",
       "    <tr>\n",
       "      <th>1</th>\n",
       "      <td>mercado</td>\n",
       "      <td>1400</td>\n",
       "    </tr>\n",
       "    <tr>\n",
       "      <th>2</th>\n",
       "      <td>conveniência</td>\n",
       "      <td>240</td>\n",
       "    </tr>\n",
       "    <tr>\n",
       "      <th>3</th>\n",
       "      <td>alimentação</td>\n",
       "      <td>500</td>\n",
       "    </tr>\n",
       "    <tr>\n",
       "      <th>4</th>\n",
       "      <td>assinaturas</td>\n",
       "      <td>110</td>\n",
       "    </tr>\n",
       "    <tr>\n",
       "      <th>5</th>\n",
       "      <td>outros</td>\n",
       "      <td>250</td>\n",
       "    </tr>\n",
       "    <tr>\n",
       "      <th>6</th>\n",
       "      <td>transporte</td>\n",
       "      <td>350</td>\n",
       "    </tr>\n",
       "    <tr>\n",
       "      <th>7</th>\n",
       "      <td>apenas joão</td>\n",
       "      <td>120</td>\n",
       "    </tr>\n",
       "    <tr>\n",
       "      <th>8</th>\n",
       "      <td>apenas lana</td>\n",
       "      <td>0</td>\n",
       "    </tr>\n",
       "  </tbody>\n",
       "</table>\n",
       "</div>"
      ],
      "text/plain": [
       "       category  cost\n",
       "0        contas  2300\n",
       "1       mercado  1400\n",
       "2  conveniência   240\n",
       "3   alimentação   500\n",
       "4   assinaturas   110\n",
       "5        outros   250\n",
       "6    transporte   350\n",
       "7   apenas joão   120\n",
       "8   apenas lana     0"
      ]
     },
     "execution_count": 11,
     "metadata": {},
     "output_type": "execute_result"
    }
   ],
   "source": [
    "df"
   ]
  },
  {
   "cell_type": "code",
   "execution_count": 12,
   "id": "a9220f27",
   "metadata": {},
   "outputs": [],
   "source": [
    "def cost_juau(row, percentual_juau, VR_juau, VR_lana):\n",
    "    if row['category'] == 'mercado':\n",
    "        return VR_juau + ((row['cost'] - VR_lana - VR_juau))*percentual_juau\n",
    "    elif row['category'] == 'apenas joão':\n",
    "        return row['cost']\n",
    "    elif row['category'] == 'apenas lana':\n",
    "        return 0\n",
    "    else:\n",
    "        return row['cost']*percentual_juau\n",
    "\n",
    "df['cost_juau'] = df.apply(cost_juau, percentual_juau=percentual_juau, VR_juau=VR_juau, VR_lana=VR_lana, axis=1)"
   ]
  },
  {
   "cell_type": "code",
   "execution_count": 13,
   "id": "417009c9",
   "metadata": {},
   "outputs": [],
   "source": [
    "def cost_lana(row, percentual_lana, VR_juau, VR_lana):\n",
    "    if row['category'] == 'mercado':\n",
    "        return VR_lana + ((row['cost'] - VR_lana - VR_juau))*percentual_lana\n",
    "    elif row['category'] == 'apenas lana':\n",
    "        return row['cost']\n",
    "    elif row['category'] == 'apenas joão':\n",
    "        return 0\n",
    "    else:\n",
    "        return row['cost']*percentual_lana\n",
    "\n",
    "df['cost_lana'] = df.apply(cost_lana, percentual_lana=percentual_lana, VR_juau=VR_juau, VR_lana=VR_lana, axis=1)"
   ]
  },
  {
   "cell_type": "markdown",
   "id": "4b251195",
   "metadata": {},
   "source": [
    "## Sending Data"
   ]
  },
  {
   "cell_type": "code",
   "execution_count": 14,
   "id": "cc4b099d",
   "metadata": {},
   "outputs": [
    {
     "name": "stdout",
     "output_type": "stream",
     "text": [
      "Connected to MySQL Server version  8.0.32\n"
     ]
    }
   ],
   "source": [
    "# old aws\n",
    "# mydb = mysql.connector.connect(host= 'accountingbob.cs8refzom5ab.us-east-1.rds.amazonaws.com',\n",
    "#                                      database='bob',\n",
    "#                                      user='admin',\n",
    "# password='oldnumber7')\n",
    "\n",
    "# old azure\n",
    "# mydb = mysql.connector.connect(host= 'nossa-residencia-mysql-azure-server.mysql.database.azure.com',\n",
    "#                                      database='bob',\n",
    "#                                      user='ocamposfaria',\n",
    "#                                      password='oldnumber7.Tennessee')\n",
    "\n",
    "# localhost\n",
    "mydb = mysql.connector.connect(host= '127.0.0.1',\n",
    "                                     database='bob',\n",
    "                                     user='ocamp',\n",
    "                                     password='oldnumber7.Tennessee')\n",
    "\n",
    "if mydb.is_connected():\n",
    "    db_Info = mydb.get_server_info()\n",
    "    print(\"Connected to MySQL Server version \", db_Info)\n",
    "else:\n",
    "    print(\"Error, not conected\")"
   ]
  },
  {
   "cell_type": "code",
   "execution_count": 15,
   "id": "c4f74a2b",
   "metadata": {},
   "outputs": [
    {
     "data": {
      "text/html": [
       "<div>\n",
       "<style scoped>\n",
       "    .dataframe tbody tr th:only-of-type {\n",
       "        vertical-align: middle;\n",
       "    }\n",
       "\n",
       "    .dataframe tbody tr th {\n",
       "        vertical-align: top;\n",
       "    }\n",
       "\n",
       "    .dataframe thead th {\n",
       "        text-align: right;\n",
       "    }\n",
       "</style>\n",
       "<table border=\"1\" class=\"dataframe\">\n",
       "  <thead>\n",
       "    <tr style=\"text-align: right;\">\n",
       "      <th></th>\n",
       "      <th>category</th>\n",
       "      <th>cost</th>\n",
       "      <th>cost_juau</th>\n",
       "      <th>cost_lana</th>\n",
       "      <th>month</th>\n",
       "    </tr>\n",
       "  </thead>\n",
       "  <tbody>\n",
       "    <tr>\n",
       "      <th>0</th>\n",
       "      <td>contas</td>\n",
       "      <td>2300</td>\n",
       "      <td>1236.756487</td>\n",
       "      <td>1063.243513</td>\n",
       "      <td>2023-07</td>\n",
       "    </tr>\n",
       "    <tr>\n",
       "      <th>1</th>\n",
       "      <td>mercado</td>\n",
       "      <td>1400</td>\n",
       "      <td>752.808297</td>\n",
       "      <td>647.191703</td>\n",
       "      <td>2023-07</td>\n",
       "    </tr>\n",
       "    <tr>\n",
       "      <th>2</th>\n",
       "      <td>conveniência</td>\n",
       "      <td>240</td>\n",
       "      <td>129.052851</td>\n",
       "      <td>110.947149</td>\n",
       "      <td>2023-07</td>\n",
       "    </tr>\n",
       "    <tr>\n",
       "      <th>3</th>\n",
       "      <td>alimentação</td>\n",
       "      <td>500</td>\n",
       "      <td>268.860106</td>\n",
       "      <td>231.139894</td>\n",
       "      <td>2023-07</td>\n",
       "    </tr>\n",
       "    <tr>\n",
       "      <th>4</th>\n",
       "      <td>assinaturas</td>\n",
       "      <td>110</td>\n",
       "      <td>59.149223</td>\n",
       "      <td>50.850777</td>\n",
       "      <td>2023-07</td>\n",
       "    </tr>\n",
       "    <tr>\n",
       "      <th>5</th>\n",
       "      <td>outros</td>\n",
       "      <td>250</td>\n",
       "      <td>134.430053</td>\n",
       "      <td>115.569947</td>\n",
       "      <td>2023-07</td>\n",
       "    </tr>\n",
       "    <tr>\n",
       "      <th>6</th>\n",
       "      <td>transporte</td>\n",
       "      <td>350</td>\n",
       "      <td>188.202074</td>\n",
       "      <td>161.797926</td>\n",
       "      <td>2023-07</td>\n",
       "    </tr>\n",
       "    <tr>\n",
       "      <th>7</th>\n",
       "      <td>apenas joão</td>\n",
       "      <td>120</td>\n",
       "      <td>120.000000</td>\n",
       "      <td>0.000000</td>\n",
       "      <td>2023-07</td>\n",
       "    </tr>\n",
       "    <tr>\n",
       "      <th>8</th>\n",
       "      <td>apenas lana</td>\n",
       "      <td>0</td>\n",
       "      <td>0.000000</td>\n",
       "      <td>0.000000</td>\n",
       "      <td>2023-07</td>\n",
       "    </tr>\n",
       "  </tbody>\n",
       "</table>\n",
       "</div>"
      ],
      "text/plain": [
       "       category  cost    cost_juau    cost_lana    month\n",
       "0        contas  2300  1236.756487  1063.243513  2023-07\n",
       "1       mercado  1400   752.808297   647.191703  2023-07\n",
       "2  conveniência   240   129.052851   110.947149  2023-07\n",
       "3   alimentação   500   268.860106   231.139894  2023-07\n",
       "4   assinaturas   110    59.149223    50.850777  2023-07\n",
       "5        outros   250   134.430053   115.569947  2023-07\n",
       "6    transporte   350   188.202074   161.797926  2023-07\n",
       "7   apenas joão   120   120.000000     0.000000  2023-07\n",
       "8   apenas lana     0     0.000000     0.000000  2023-07"
      ]
     },
     "execution_count": 15,
     "metadata": {},
     "output_type": "execute_result"
    }
   ],
   "source": [
    "with open('month.txt') as f:\n",
    "    lines = f.readlines()\n",
    "month = lines[0].replace('\\n', '')\n",
    "df['month'] = month\n",
    "df"
   ]
  },
  {
   "cell_type": "code",
   "execution_count": 16,
   "id": "6c815ef3",
   "metadata": {},
   "outputs": [],
   "source": [
    "for i in range(df.shape[0]):\n",
    "    query = f'''\n",
    "    INSERT INTO\n",
    "\n",
    "    limits\n",
    "    (category,\n",
    "    cost,\n",
    "    cost_juau,\n",
    "    cost_lana,\n",
    "    month)\n",
    "\n",
    "    VALUES(\n",
    "    '{df['category'][i]}',\n",
    "    '{df['cost'][i]}',\n",
    "    '{df['cost_juau'][i]}',\n",
    "    '{df['cost_lana'][i]}',\n",
    "    '{df['month'][i]}'\n",
    "    )\n",
    "    \n",
    "    ON DUPLICATE KEY UPDATE\n",
    "    \n",
    "    category = '{df['category'][i]}',\n",
    "    cost = '{df['cost'][i]}',\n",
    "    cost_juau = '{df['cost_juau'][i]}',\n",
    "    cost_lana = '{df['cost_lana'][i]}',\n",
    "    month = '{df['month'][i]}'\n",
    "\n",
    "    '''\n",
    "\n",
    "    try:\n",
    "        cursor = mydb.cursor()\n",
    "        cursor.execute(query)\n",
    "        mydb.commit()\n",
    "        cursor.close()\n",
    "    except Exception as e:\n",
    "        print(query)\n",
    "        print(e)"
   ]
  }
 ],
 "metadata": {
  "kernelspec": {
   "display_name": "Python 3 (ipykernel)",
   "language": "python",
   "name": "python3"
  },
  "language_info": {
   "codemirror_mode": {
    "name": "ipython",
    "version": 3
   },
   "file_extension": ".py",
   "mimetype": "text/x-python",
   "name": "python",
   "nbconvert_exporter": "python",
   "pygments_lexer": "ipython3",
   "version": "3.9.0"
  }
 },
 "nbformat": 4,
 "nbformat_minor": 5
}
